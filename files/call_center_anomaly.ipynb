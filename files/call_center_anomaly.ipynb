{
 "cells": [
  {
   "cell_type": "markdown",
   "id": "66907701-1675-4ef5-ac61-a88a436e5b16",
   "metadata": {},
   "source": [
    "# Case 1 - Call Center Staffing Analytics - Detecting Favoritism using Machine Learning\n",
    "## Situation: \n",
    "A call center operation was under close scrutiny for uneven performance,\n",
    "shoddy operations and low employee morale. There was a rumor floating around that\n",
    "the call center manager was engaging in favoritism, that certain employees were given\n",
    "unfairly easy working conditions, but no one was able to present a convincing case\n",
    "against the manager.\n",
    "## Complication: \n",
    "Some even went so far as to accuse the manager of nepotism --\n",
    "implying that the workers being given extra sweet deals were those that were related to\n",
    "the manager. The case was before a judge who, given the seriousness of the case,\n",
    "asked for hard evidence.\n",
    "## Key question:\n",
    "Can we use machine learning to ‘objectively’ identify whether there is\n",
    "any hard evidence to prove that certain employees were being treated in a\n",
    "systematically different way than others. Can we do this using not one, but multiple\n",
    "dimensions, together?"
   ]
  },
  {
   "cell_type": "markdown",
   "id": "c6a376cb",
   "metadata": {},
   "source": [
    "## Note:\n",
    "1. Do not leave current page. Please do the analysis in the same jupyter notebook.\n",
    "2. We have already installed the necessary packages for data analysis. In case you want to install additional packages, you can use the following command. For instance, to install seaborn:\n",
    "```bash\n",
    "import piplite\n",
    "await piplite.install('seaborn')\n",
    "import seaborn as sns\n",
    "```\n"
   ]
  },
  {
   "cell_type": "markdown",
   "id": "a4d3b2e4-8015-455f-8b10-9dad7beae687",
   "metadata": {},
   "source": [
    "# start your analysis "
   ]
  },
  {
   "cell_type": "code",
   "execution_count": 1,
   "id": "f1efa156-e449-4e40-a2b2-a580df2bbe05",
   "metadata": {},
   "outputs": [],
   "source": [
    "import pandas as pd\n",
    "df = pd.read_csv(\"call-center.csv\")\n"
   ]
  },
  {
   "cell_type": "code",
   "execution_count": null,
   "id": "c5335153",
   "metadata": {},
   "outputs": [],
   "source": []
  }
 ],
 "metadata": {
  "kernelspec": {
   "display_name": "Python 3 (ipykernel)",
   "language": "python",
   "name": "python3"
  },
  "language_info": {
   "codemirror_mode": {
    "name": "ipython",
    "version": 3
   },
   "file_extension": ".py",
   "mimetype": "text/x-python",
   "name": "python",
   "nbconvert_exporter": "python",
   "pygments_lexer": "ipython3",
   "version": "3.10.10"
  }
 },
 "nbformat": 4,
 "nbformat_minor": 5
}
